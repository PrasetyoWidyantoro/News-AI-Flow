{
 "cells": [
  {
   "cell_type": "code",
   "execution_count": null,
   "metadata": {
    "id": "BwnJtHXYyics"
   },
   "outputs": [],
   "source": [
    "import pandas as pd\n",
    "import numpy as np\n",
    "import json\n",
    "import os"
   ]
  },
  {
   "cell_type": "code",
   "execution_count": null,
   "metadata": {
    "id": "NdKlP5K4z7Nj"
   },
   "outputs": [],
   "source": [
    "df = pd.read_json(\"data.jsonl\", lines=True)\n"
   ]
  },
  {
   "cell_type": "code",
   "execution_count": null,
   "metadata": {
    "colab": {
     "base_uri": "https://localhost:8080/",
     "height": 293
    },
    "id": "D56Y1n8K0QcY",
    "outputId": "6f8a6e69-314b-4003-d2b3-42c87f40e949"
   },
   "outputs": [
    {
     "data": {
      "application/vnd.google.colaboratory.intrinsic+json": {
       "summary": "{\n  \"name\": \"df\",\n  \"rows\": 10388,\n  \"fields\": [\n    {\n      \"column\": \"story\",\n      \"properties\": {\n        \"dtype\": \"string\",\n        \"num_unique_values\": 10388,\n        \"samples\": [\n          \"ROME, Italy -- Captain Javier Zanetti saved Inter Milan's unbeaten Serie A record as he rifled home a stunning late volley to earn a 1-1 draw against second-placed Roma at the San Siro on Wednesday. Zanetti celebrates his late strike as Inter retained their unbeaten Serie A record with a 1-1 draw against Roma. Roma captain Francesco Totti had given the visitors a deserved first-half leadbut Zanetti's strike two minutes from time maintained Inter's nine-point lead at the top. Roma needed to win to breathe new life into the title race but they were dealt a cruel blow as French defender Philippe Mexes was sent-off late on for two bookings in quick succession. Inter capitalised and they have now lost only once in their last 65 league matches. The home side had the first clear-cut chance of the match and were within centimeters of taking the lead when Hernan Crespo met a cross from Patrick Vieira with an acrobatic volley, but saw his effort cannon back off the post. The defending champions were made to pay for that miss on 38 minutes as the visitors orchestrated a sublime goal. Neat footwork from Macedonia international Mirko Vucinic released Max Tonetto down the left and his pin-point cross was flicked home at the near post by Totti from six meters out as he stole in front of defender Cristian Chivu. Inter center-back Nicolas Burdisso should have restored parity in first-half stoppage time but his header from Luis Figo's corner flew over the bar. Figo himself had a great chance on 54 minutes but after having time to set himself up for an attempted volley, he skewed his effort so badly that it did not even go out of play. After Mexes' dismissal 10 from time, Inter laid siege to Roma's goal. Goalkeeper Doni had to be alert to tip over Crespo's header three minutes from time but he could do nothing about Zanetti's volley a minute later. Meanwhile, AC Milan slipped to fifth place as they were held to a 1-1 draw at Catania. Brazilian teenager Pato gave them the lead early in the second half with a skimming long-range shot but substitute Gionathan Spinesi's header earnt the Sicilians a point. Fiorentina are up to fourth after they defeated Livorno 1-0 at home thanks to a goal from Senegal forward Ndiaye Papa Waigo. E-mail to a friend\",\n          \"In Fad-Free Nutrition, exclusively on CNN.com, the editors of Cooking Light help you digest the latest diet and food news and trends. The recent recall of industrial peanut butter and products that contain it sparked nationwide concern about the safety of eating many popular snack products. That's understandable, considering the average American consumes 3.3 pounds of peanut butter each year, according to USDA data. Pistachios, pecans, hazelnuts, almonds, and others can be made into tasty spreads and put in recipes. While consuming with caution is always prudent, it's important not to give up on nuts and peanuts (which are actually legumes) entirely. They offer numerous health benefits and can even help dieters stay on track. Consuming just one ounce of nuts -- of any variety -- up to five times a week in place of other calories consumed is likely to help reduce the risk of heart disease. Although nuts are high in calories, they contain heart-healthy mono- and polyunsaturated fats, and they're jam-packed with nutrients such as vitamin E, folate, niacin, copper, magnesium, and potassium. Plus, they have some protein and fiber to help keep you feeling satisfied. Learn more about the health benefits of nuts (plus recipes that use them) at CookingLight.com. Tips on smart snacking If you are worried about buying peanut butter based on the recent salmonella scare, try these tasty and nutritious alternative ways to snack safely: 1. Make your own spread. Although major national brands of jarred peanut butter have not been recalled, it's a fun and nutritious option to make your own. At certain grocery stores, such as some locations of Whole Foods Market, you can grind peanuts to make fresh peanut butter. In less than one minute, you have a fresh, peanutty spread without preservatives or added sugar. You can also make fresh peanut butter at home; all you need are plain roasted peanuts and a food processor. Put \\u00be cup plain roasted peanuts in a food processor; process two minutes or until smooth. See our staff's tips on making homemade nut butters on our blog, Test Kitchen Secrets. 2. Get creative. Use fresh peanut butter to upgrade homemade versions of snacks that may have been recalled. For example, spread a teaspoon of peanut butter on a whole-grain cracker instead of purchasing ready-made peanut butter crackers. You might surprise yourself by creating a better-for-you treat, such as our lightened peanut buttery Swag Bars. 3. Branch out beyond peanut butter. Almond, cashew, macadamia, walnut, and hazelnut butters are unaffected by the recall. They all offer a strong nutrition profile. For example, 2 tablespoons of almond butter (one serving) provide the following: \\u2022 Almost half your daily needs of the antioxidant vitamin E with 6.5 milligrams \\u2022 About one-third of a day's worth of magnesium (97 milligrams), a mineral that supports muscle function and bone tissue \\u2022 243 milligrams of potassium (about five percent of one day's allotment), which helps keep your blood pressure levels steady Visit CookingLight.com to learn more about other nutritious nut butters made from cashews, almonds, macadamia nuts, hazelnuts, pecans, pistachios, and walnuts -- including how to make them, and healthful recipes that put them to delicious use. For more tips on making healthy taste great, try Cooking Light - CLICK HERE\",\n          \"(CNN) -- There's always been something about Margaret Thatcher that makes grown men go weak at the knees, particularly members of the Conservative Party. Perhaps she revives memories of stern schoolmistresses; perhaps they just grudgingly admired a strong woman telling them what to do. \\n\\nI suspect the same will be true of Meryl Streep's portrayal of the former British Prime Minister in the new biopic, \\\"The Iron Lady,\\\" which the consensus appears to view as a pitch-perfect performance, accurately capturing the look, sound and general aura of the United Kingdom's first female premier. \\n\\nFor many, the movie will be a nostalgia trip, whisking viewers back to happier times when politics was politics, there were heated ideological battles and elected leaders actually believed in something. \\\"The Iron Lady\\\" plays on all of those things, although without explicitly taking sides. There's no real attempt to analyze whether she was right or wrong during any highlighted episode. \\n\\nSo we witness Mrs Thatcher taking on striking miners in the mid-1980s, taking on the Argentinians to recover the Falkland Islands early in her premiership, and -- the most consistent theme of all -- taking on the British Establishment to reach to top of what Disraeli called \\\"the greasy pole\\\" of politics in the first place. \\n\\nReview: \\\"The Iron Lady\\\" \\n\\nBiopics naturally simplify -- how else could an eventful career be crammed into just over 100 minutes of celluloid? But the essence of the Thatcher years are certainly there and besides, the collective memory of that turbulent decade is also simplistic and broad brush. A nuanced analysis of Thatcher's economic record would hardly have kept the box office busy. \\n\\nThat said the screenplay takes few serious liberties with historical fact. Mrs Thatcher's political love-in with the then US President Ronald Reagan is covered, albeit briefly, as is her attempted assassination by the IRA in 1984. The leadership crisis that ended her premiership in 1990 also features, as one might expect in a biopic. \\n\\nThatcher, of course, remains a deeply divisive figure in the UK -- not least in parts of northern England and Scotland -- so movie audiences, like the country at large, will be divided. Maggie fans will glean reassuring glimpses of what made her great in their eyes, while those who remember her less fondly will no doubt come away with their prejudices safely intact. \\n\\nGallery: \\\"The Iron Lady\\\" and other political biopics \\n\\nBut for the generation or so of moviegoers who have no direct memory of the events covered in the film, their perception of Mrs Thatcher -- her legacy and beliefs -- will undoubtedly be highly informed by \\\"The Iron Lady.\\\" Although not really \\\"political\\\" in that it offers few judgments, Streep's performance is nevertheless useful historical propaganda for a Conservative Party grappling with many of the same issues today. \\n\\nMore interesting will be the reaction to the depiction of Baroness Thatcher's dementia, first (publicly) revealed by her daughter Carol a few years ago. Although it has often been mentioned in the press, few in the UK are directly aware of its extent and will probably be shocked at Streep's nuanced portrait of the Iron Lady displaying more than a little mental rust. \\n\\nIt's almost a taboo subject, looking back on Mrs Thatcher's political career through the eyes of an obviously frail old lady. How would an American audience have reacted to such a portrayal of Ronald Reagan in his dotage? I suspect not at all well. Political activists prefer to remember their heroes -- and heroines -- in their prime. \\n\\nOlder members of the Conservative Party often indulge in the wistful refrain: \\\"If only Maggie was still leader of the party.\\\" They do so because they find the thought comforting, secure in the knowledge that with a click of her heel and a firm handbagging she would sort out all the old enemies. In that respect, \\\"The Iron Lady\\\" will probably bring tears to some veteran Tory eyes.\"\n        ],\n        \"semantic_type\": \"\",\n        \"description\": \"\"\n      }\n    },\n    {\n      \"column\": \"questions\",\n      \"properties\": {\n        \"dtype\": \"object\",\n        \"semantic_type\": \"\",\n        \"description\": \"\"\n      }\n    },\n    {\n      \"column\": \"answers\",\n      \"properties\": {\n        \"dtype\": \"object\",\n        \"semantic_type\": \"\",\n        \"description\": \"\"\n      }\n    },\n    {\n      \"column\": \"summary\",\n      \"properties\": {\n        \"dtype\": \"string\",\n        \"num_unique_values\": 10087,\n        \"samples\": [\n          \"No bail for ex-NFL star accused of directing men in alleged armed robbery .\\nSimpson faces charges of robbery, assault, burglary and conspiracy .\\nAlleged robbery involved sports-related items, police say .\\nSimpson arrested Sunday in Las Vegas, but he says items were his .\",\n          \"Steven Spielberg finalizes partnership with Indian tycoon, gets cash infusion .\\nPartnership with Anil Ambani provides $875 million for DreamWorks .\\nSpielberg's first film planned: remake of classic \\\"Harvey\\\"\",\n          \"NEW: Pagaent director responds, \\\"Facts are facts, and we stand by them\\\"\\nAttorney Charles LiMandri pens ultimatum to Miss California USA director's lawyer .\\nCarrie Prejean's lawyer says dethronement caused \\\"severe emotional distress\\\"\\n\\\"Please view this letter as a last opportunity\\\" to retract statements, LiMandri writes .\"\n        ],\n        \"semantic_type\": \"\",\n        \"description\": \"\"\n      }\n    }\n  ]\n}",
       "type": "dataframe",
       "variable_name": "df"
      },
      "text/html": [
       "\n",
       "  <div id=\"df-0080435e-320f-431c-8b41-3963e2a53add\" class=\"colab-df-container\">\n",
       "    <div>\n",
       "<style scoped>\n",
       "    .dataframe tbody tr th:only-of-type {\n",
       "        vertical-align: middle;\n",
       "    }\n",
       "\n",
       "    .dataframe tbody tr th {\n",
       "        vertical-align: top;\n",
       "    }\n",
       "\n",
       "    .dataframe thead th {\n",
       "        text-align: right;\n",
       "    }\n",
       "</style>\n",
       "<table border=\"1\" class=\"dataframe\">\n",
       "  <thead>\n",
       "    <tr style=\"text-align: right;\">\n",
       "      <th></th>\n",
       "      <th>story</th>\n",
       "      <th>questions</th>\n",
       "      <th>answers</th>\n",
       "      <th>summary</th>\n",
       "    </tr>\n",
       "  </thead>\n",
       "  <tbody>\n",
       "    <tr>\n",
       "      <th>0</th>\n",
       "      <td>'SINDH KALAY', England (CNN) -- The aroma of f...</td>\n",
       "      <td>[Where were they being deployed to?, What does...</td>\n",
       "      <td>[[Afghanistan's Helmand province], [how the pe...</td>\n",
       "      <td>British soldiers train in mock Afghan village ...</td>\n",
       "    </tr>\n",
       "    <tr>\n",
       "      <th>1</th>\n",
       "      <td>(AOL Autos)  -- At the 2009 Detroit Auto Show,...</td>\n",
       "      <td>[What debuts at the 2009 Detroit Auto Show?, W...</td>\n",
       "      <td>[[electric vehicles], [Chrysler, Mercedes-Benz...</td>\n",
       "      <td>Latest technologies debut at the 2009 Detroit ...</td>\n",
       "    </tr>\n",
       "    <tr>\n",
       "      <th>2</th>\n",
       "      <td>(AOL Autos)  -- Buying a used car may seem lik...</td>\n",
       "      <td>[What does Texas have?, What will the average ...</td>\n",
       "      <td>[[has more used vehicles than any other state]...</td>\n",
       "      <td>Three out of four transactions in the U.S. inv...</td>\n",
       "    </tr>\n",
       "    <tr>\n",
       "      <th>3</th>\n",
       "      <td>(AOL Autos)  -- Collecting cars is an expensiv...</td>\n",
       "      <td>[What can compete with the Mercedes SL Class?,...</td>\n",
       "      <td>[[Cadillac XLR-V], [hatchback,], [hatchback,],...</td>\n",
       "      <td>The right new car today could be worth a fortu...</td>\n",
       "    </tr>\n",
       "    <tr>\n",
       "      <th>4</th>\n",
       "      <td>(AOL Autos)  -- Have you ever wondered what yo...</td>\n",
       "      <td>[what did the report try to uncover?, What do ...</td>\n",
       "      <td>[[secret contents of the average American trun...</td>\n",
       "      <td>Reporter tries to uncover secret contents of a...</td>\n",
       "    </tr>\n",
       "  </tbody>\n",
       "</table>\n",
       "</div>\n",
       "    <div class=\"colab-df-buttons\">\n",
       "\n",
       "  <div class=\"colab-df-container\">\n",
       "    <button class=\"colab-df-convert\" onclick=\"convertToInteractive('df-0080435e-320f-431c-8b41-3963e2a53add')\"\n",
       "            title=\"Convert this dataframe to an interactive table.\"\n",
       "            style=\"display:none;\">\n",
       "\n",
       "  <svg xmlns=\"http://www.w3.org/2000/svg\" height=\"24px\" viewBox=\"0 -960 960 960\">\n",
       "    <path d=\"M120-120v-720h720v720H120Zm60-500h600v-160H180v160Zm220 220h160v-160H400v160Zm0 220h160v-160H400v160ZM180-400h160v-160H180v160Zm440 0h160v-160H620v160ZM180-180h160v-160H180v160Zm440 0h160v-160H620v160Z\"/>\n",
       "  </svg>\n",
       "    </button>\n",
       "\n",
       "  <style>\n",
       "    .colab-df-container {\n",
       "      display:flex;\n",
       "      gap: 12px;\n",
       "    }\n",
       "\n",
       "    .colab-df-convert {\n",
       "      background-color: #E8F0FE;\n",
       "      border: none;\n",
       "      border-radius: 50%;\n",
       "      cursor: pointer;\n",
       "      display: none;\n",
       "      fill: #1967D2;\n",
       "      height: 32px;\n",
       "      padding: 0 0 0 0;\n",
       "      width: 32px;\n",
       "    }\n",
       "\n",
       "    .colab-df-convert:hover {\n",
       "      background-color: #E2EBFA;\n",
       "      box-shadow: 0px 1px 2px rgba(60, 64, 67, 0.3), 0px 1px 3px 1px rgba(60, 64, 67, 0.15);\n",
       "      fill: #174EA6;\n",
       "    }\n",
       "\n",
       "    .colab-df-buttons div {\n",
       "      margin-bottom: 4px;\n",
       "    }\n",
       "\n",
       "    [theme=dark] .colab-df-convert {\n",
       "      background-color: #3B4455;\n",
       "      fill: #D2E3FC;\n",
       "    }\n",
       "\n",
       "    [theme=dark] .colab-df-convert:hover {\n",
       "      background-color: #434B5C;\n",
       "      box-shadow: 0px 1px 3px 1px rgba(0, 0, 0, 0.15);\n",
       "      filter: drop-shadow(0px 1px 2px rgba(0, 0, 0, 0.3));\n",
       "      fill: #FFFFFF;\n",
       "    }\n",
       "  </style>\n",
       "\n",
       "    <script>\n",
       "      const buttonEl =\n",
       "        document.querySelector('#df-0080435e-320f-431c-8b41-3963e2a53add button.colab-df-convert');\n",
       "      buttonEl.style.display =\n",
       "        google.colab.kernel.accessAllowed ? 'block' : 'none';\n",
       "\n",
       "      async function convertToInteractive(key) {\n",
       "        const element = document.querySelector('#df-0080435e-320f-431c-8b41-3963e2a53add');\n",
       "        const dataTable =\n",
       "          await google.colab.kernel.invokeFunction('convertToInteractive',\n",
       "                                                    [key], {});\n",
       "        if (!dataTable) return;\n",
       "\n",
       "        const docLinkHtml = 'Like what you see? Visit the ' +\n",
       "          '<a target=\"_blank\" href=https://colab.research.google.com/notebooks/data_table.ipynb>data table notebook</a>'\n",
       "          + ' to learn more about interactive tables.';\n",
       "        element.innerHTML = '';\n",
       "        dataTable['output_type'] = 'display_data';\n",
       "        await google.colab.output.renderOutput(dataTable, element);\n",
       "        const docLink = document.createElement('div');\n",
       "        docLink.innerHTML = docLinkHtml;\n",
       "        element.appendChild(docLink);\n",
       "      }\n",
       "    </script>\n",
       "  </div>\n",
       "\n",
       "\n",
       "<div id=\"df-54b3899f-1034-46f5-bb42-498f59ce3896\">\n",
       "  <button class=\"colab-df-quickchart\" onclick=\"quickchart('df-54b3899f-1034-46f5-bb42-498f59ce3896')\"\n",
       "            title=\"Suggest charts\"\n",
       "            style=\"display:none;\">\n",
       "\n",
       "<svg xmlns=\"http://www.w3.org/2000/svg\" height=\"24px\"viewBox=\"0 0 24 24\"\n",
       "     width=\"24px\">\n",
       "    <g>\n",
       "        <path d=\"M19 3H5c-1.1 0-2 .9-2 2v14c0 1.1.9 2 2 2h14c1.1 0 2-.9 2-2V5c0-1.1-.9-2-2-2zM9 17H7v-7h2v7zm4 0h-2V7h2v10zm4 0h-2v-4h2v4z\"/>\n",
       "    </g>\n",
       "</svg>\n",
       "  </button>\n",
       "\n",
       "<style>\n",
       "  .colab-df-quickchart {\n",
       "      --bg-color: #E8F0FE;\n",
       "      --fill-color: #1967D2;\n",
       "      --hover-bg-color: #E2EBFA;\n",
       "      --hover-fill-color: #174EA6;\n",
       "      --disabled-fill-color: #AAA;\n",
       "      --disabled-bg-color: #DDD;\n",
       "  }\n",
       "\n",
       "  [theme=dark] .colab-df-quickchart {\n",
       "      --bg-color: #3B4455;\n",
       "      --fill-color: #D2E3FC;\n",
       "      --hover-bg-color: #434B5C;\n",
       "      --hover-fill-color: #FFFFFF;\n",
       "      --disabled-bg-color: #3B4455;\n",
       "      --disabled-fill-color: #666;\n",
       "  }\n",
       "\n",
       "  .colab-df-quickchart {\n",
       "    background-color: var(--bg-color);\n",
       "    border: none;\n",
       "    border-radius: 50%;\n",
       "    cursor: pointer;\n",
       "    display: none;\n",
       "    fill: var(--fill-color);\n",
       "    height: 32px;\n",
       "    padding: 0;\n",
       "    width: 32px;\n",
       "  }\n",
       "\n",
       "  .colab-df-quickchart:hover {\n",
       "    background-color: var(--hover-bg-color);\n",
       "    box-shadow: 0 1px 2px rgba(60, 64, 67, 0.3), 0 1px 3px 1px rgba(60, 64, 67, 0.15);\n",
       "    fill: var(--button-hover-fill-color);\n",
       "  }\n",
       "\n",
       "  .colab-df-quickchart-complete:disabled,\n",
       "  .colab-df-quickchart-complete:disabled:hover {\n",
       "    background-color: var(--disabled-bg-color);\n",
       "    fill: var(--disabled-fill-color);\n",
       "    box-shadow: none;\n",
       "  }\n",
       "\n",
       "  .colab-df-spinner {\n",
       "    border: 2px solid var(--fill-color);\n",
       "    border-color: transparent;\n",
       "    border-bottom-color: var(--fill-color);\n",
       "    animation:\n",
       "      spin 1s steps(1) infinite;\n",
       "  }\n",
       "\n",
       "  @keyframes spin {\n",
       "    0% {\n",
       "      border-color: transparent;\n",
       "      border-bottom-color: var(--fill-color);\n",
       "      border-left-color: var(--fill-color);\n",
       "    }\n",
       "    20% {\n",
       "      border-color: transparent;\n",
       "      border-left-color: var(--fill-color);\n",
       "      border-top-color: var(--fill-color);\n",
       "    }\n",
       "    30% {\n",
       "      border-color: transparent;\n",
       "      border-left-color: var(--fill-color);\n",
       "      border-top-color: var(--fill-color);\n",
       "      border-right-color: var(--fill-color);\n",
       "    }\n",
       "    40% {\n",
       "      border-color: transparent;\n",
       "      border-right-color: var(--fill-color);\n",
       "      border-top-color: var(--fill-color);\n",
       "    }\n",
       "    60% {\n",
       "      border-color: transparent;\n",
       "      border-right-color: var(--fill-color);\n",
       "    }\n",
       "    80% {\n",
       "      border-color: transparent;\n",
       "      border-right-color: var(--fill-color);\n",
       "      border-bottom-color: var(--fill-color);\n",
       "    }\n",
       "    90% {\n",
       "      border-color: transparent;\n",
       "      border-bottom-color: var(--fill-color);\n",
       "    }\n",
       "  }\n",
       "</style>\n",
       "\n",
       "  <script>\n",
       "    async function quickchart(key) {\n",
       "      const quickchartButtonEl =\n",
       "        document.querySelector('#' + key + ' button');\n",
       "      quickchartButtonEl.disabled = true;  // To prevent multiple clicks.\n",
       "      quickchartButtonEl.classList.add('colab-df-spinner');\n",
       "      try {\n",
       "        const charts = await google.colab.kernel.invokeFunction(\n",
       "            'suggestCharts', [key], {});\n",
       "      } catch (error) {\n",
       "        console.error('Error during call to suggestCharts:', error);\n",
       "      }\n",
       "      quickchartButtonEl.classList.remove('colab-df-spinner');\n",
       "      quickchartButtonEl.classList.add('colab-df-quickchart-complete');\n",
       "    }\n",
       "    (() => {\n",
       "      let quickchartButtonEl =\n",
       "        document.querySelector('#df-54b3899f-1034-46f5-bb42-498f59ce3896 button');\n",
       "      quickchartButtonEl.style.display =\n",
       "        google.colab.kernel.accessAllowed ? 'block' : 'none';\n",
       "    })();\n",
       "  </script>\n",
       "</div>\n",
       "\n",
       "    </div>\n",
       "  </div>\n"
      ],
      "text/plain": [
       "                                               story  \\\n",
       "0  'SINDH KALAY', England (CNN) -- The aroma of f...   \n",
       "1  (AOL Autos)  -- At the 2009 Detroit Auto Show,...   \n",
       "2  (AOL Autos)  -- Buying a used car may seem lik...   \n",
       "3  (AOL Autos)  -- Collecting cars is an expensiv...   \n",
       "4  (AOL Autos)  -- Have you ever wondered what yo...   \n",
       "\n",
       "                                           questions  \\\n",
       "0  [Where were they being deployed to?, What does...   \n",
       "1  [What debuts at the 2009 Detroit Auto Show?, W...   \n",
       "2  [What does Texas have?, What will the average ...   \n",
       "3  [What can compete with the Mercedes SL Class?,...   \n",
       "4  [what did the report try to uncover?, What do ...   \n",
       "\n",
       "                                             answers  \\\n",
       "0  [[Afghanistan's Helmand province], [how the pe...   \n",
       "1  [[electric vehicles], [Chrysler, Mercedes-Benz...   \n",
       "2  [[has more used vehicles than any other state]...   \n",
       "3  [[Cadillac XLR-V], [hatchback,], [hatchback,],...   \n",
       "4  [[secret contents of the average American trun...   \n",
       "\n",
       "                                             summary  \n",
       "0  British soldiers train in mock Afghan village ...  \n",
       "1  Latest technologies debut at the 2009 Detroit ...  \n",
       "2  Three out of four transactions in the U.S. inv...  \n",
       "3  The right new car today could be worth a fortu...  \n",
       "4  Reporter tries to uncover secret contents of a...  "
      ]
     },
     "execution_count": 4,
     "metadata": {},
     "output_type": "execute_result"
    }
   ],
   "source": [
    "df.head()"
   ]
  },
  {
   "cell_type": "code",
   "execution_count": null,
   "metadata": {
    "colab": {
     "base_uri": "https://localhost:8080/",
     "height": 522
    },
    "id": "z-7Bn8g90d4F",
    "outputId": "37c40ffb-a308-4d8f-e39d-a4f50302f60d"
   },
   "outputs": [
    {
     "data": {
      "application/vnd.google.colaboratory.intrinsic+json": {
       "type": "string"
      },
      "text/plain": [
       "'\\'SINDH KALAY\\', England (CNN) -- The aroma of freshly baking flatbread wafts through the air as a unit of British soldiers position themselves for a quick patrol around the village of Sindh Kalay. A British soldier on patrol in the mock Afghan village of Sindh Kalay. Market vendors hawk grapes and melons, as a group of village elders sit smoking water pipes and suspicious-looking men lurk beside battered motorcycles. What should the soldiers do? Conduct a weapons search? Approach the village elders first? In the complex political and cultural terrain of Afghanistan, what is the best course of action? Except this is not Afghanistan. It\\'s Norfolk, England. Instead of the Hindu Kush mountains, it is the green ladscape and tidy farmhouses of the English countryside that stretch out behind them. Welcome to the British Army\\'s state-of-the art training ground. It cost more than $20 million to build and every British soldier serving in Afghanistan will do his or her training here. \"I think it\\'s the closest thing you are going to get short of being in Afghanistan itself,\" says Col. David Colthup of the 2nd Battalion of the Yorkshire Regiment. His troops have already served one tour of duty in Afghanistan\\'s Helmand province and are training for another. British troops serving in Helmand province are tasked with mentoring and training Afghan security forces. Not an easy job in a Taliban stronghold and Afghanistan\\'s center of opium production. \"Ultimately, a soldier joins the army and trains to fight. That\\'s what a soldier trains to do. But today, it\\'s a much, much more complex environment,\" explains Colthup. \"The business of being able to interact either through an interpreter or through Afghan security forces, whether they are police or army. And to understand how the people operate and how we can interact better with them. Because ultimately, that\\'s what it\\'s about,\" he says. The most distinctive features of Sindh Kalay are the high three-meter walls that make up the village compound, creating narrow alleyways difficult for troops to patrol. The village is staffed with Afghan asylum-seekers, many of whom have fled the Taliban. They play the roles of market vendors, village elders and sometimes Afghan security forces. Several Afghan women are also on hand, useful for training British soldiers on the religious and cultural sensitivities of entering an Afghan home.  Watch British troops training in mock Afghan village » The Taliban insurgents are played by Nepalese Ghurkha soldiers authorized to handle weapons. They play their roles silently, unable to partake in the Pashtun banter among the Afghans. Fazel Beria is also an asylum-seeker from Afghanistan. He is responsible for recruiting and for creating the sights and smells of Sindh Kalay and is easily identifiable as the only Afghan in the market in Western clothes. He beams with pride walking down the bazaar and clearly relishes his role in training the British Army. \"Everything with the culture comes up with the issue of hearts and minds,\" he explains. \"If you want to win that, you need to know about their culture. You need to respect their culture, their religion and their way of life.\" He gives high marks to the soldiers training so far. After each exercise, the Afghan actors talk directly to the soldiers about what went wrong and what went right. Sometimes, it\\'s the little things that count. \"Yes, there have been quite a lot of surprises,\" Beria says. Like Afghan will sit cross legged for hours. \"The British soldier cannot do that,\" he laughs. \"The Afghan will be sitting very comfortable and the British soldier is not. So, they have to get used to it.\"  See photos of British troops on patrol in Sindh Kalay -- and for real in Afghanistan » Previously, the army trained on farmhouses and in urban neighborhoods that resembled Northern Ireland more than Afghanistan. But Sindh Kalay does more than mimic the physical reality of Afghanistan. It also mirrors the changing tactics on the ground. Troops are grilled in'"
      ]
     },
     "execution_count": 5,
     "metadata": {},
     "output_type": "execute_result"
    }
   ],
   "source": [
    "df['story'].iloc[0]"
   ]
  },
  {
   "cell_type": "code",
   "execution_count": null,
   "metadata": {
    "colab": {
     "base_uri": "https://localhost:8080/"
    },
    "id": "GrLOq17c02VF",
    "outputId": "285a778f-b7ed-41f5-c930-a0b2e6ddf4e5"
   },
   "outputs": [
    {
     "data": {
      "text/plain": [
       "['Where were they being deployed to?',\n",
       " 'What does the village train soldiers to understand?',\n",
       " 'Where do British soldiers train?',\n",
       " 'Where will British troops be deployed?',\n",
       " 'Where did the soldiers train?',\n",
       " 'What are soldiers being trained to understand?',\n",
       " 'Who play the part of Taliban militants?',\n",
       " 'What does the village feature?',\n",
       " 'Who plays Taliban militants during mock Afghan village?',\n",
       " 'What does the village train the soldiers to do?',\n",
       " 'Who plays the role of \"Taliban militants\"?',\n",
       " 'What do the mock Afghan villages contain?',\n",
       " 'What did British soldiers do before being deployed to Afghanistan?']"
      ]
     },
     "execution_count": 6,
     "metadata": {},
     "output_type": "execute_result"
    }
   ],
   "source": [
    "df['questions'].iloc[0]"
   ]
  },
  {
   "cell_type": "code",
   "execution_count": null,
   "metadata": {
    "colab": {
     "base_uri": "https://localhost:8080/"
    },
    "id": "3CFoHg1i05Tm",
    "outputId": "8719cd58-d0ea-4f7e-a942-d596dddcbf33"
   },
   "outputs": [
    {
     "data": {
      "text/plain": [
       "[[\"Afghanistan's Helmand province\"],\n",
       " ['how the people operate and how we can interact better with them.'],\n",
       " ['mock Afghan village of Sindh Kalay.'],\n",
       " ['around the village of Sindh Kalay.'],\n",
       " ['Norfolk, England.'],\n",
       " ['how the people operate and how we can interact better with them.'],\n",
       " ['Nepalese Ghurkha soldiers'],\n",
       " ['high three-meter walls'],\n",
       " ['Nepalese Ghurkha soldiers'],\n",
       " ['religious and cultural sensitivities'],\n",
       " ['Nepalese Ghurkha soldiers authorized to handle weapons.'],\n",
       " [\"British Army's state-of-the art training ground.\"],\n",
       " ['training']]"
      ]
     },
     "execution_count": 7,
     "metadata": {},
     "output_type": "execute_result"
    }
   ],
   "source": [
    "df['answers'].iloc[0]"
   ]
  },
  {
   "cell_type": "code",
   "execution_count": null,
   "metadata": {
    "colab": {
     "base_uri": "https://localhost:8080/",
     "height": 70
    },
    "id": "Mx4649Q106iC",
    "outputId": "43ab91f2-a826-43f2-9b71-8bb13f718000"
   },
   "outputs": [
    {
     "data": {
      "application/vnd.google.colaboratory.intrinsic+json": {
       "type": "string"
      },
      "text/plain": [
       "'British soldiers train in mock Afghan village before deployment to Afghanistan .\\nVillage features Afghan asylum-seekers as vendors, elders, Afghan forces .\\nTaliban militants are played by Nepalese Ghurkha soldiers .\\nVillage trains soldiers to understand Afghan customs, respect Afghan culture .'"
      ]
     },
     "execution_count": 8,
     "metadata": {},
     "output_type": "execute_result"
    }
   ],
   "source": [
    "df['summary'].iloc[0]"
   ]
  },
  {
   "cell_type": "code",
   "execution_count": null,
   "metadata": {
    "colab": {
     "base_uri": "https://localhost:8080/"
    },
    "id": "NmX3qG9O1z-c",
    "outputId": "fbfd258c-9fdc-45c2-c944-3a991eff77a3"
   },
   "outputs": [
    {
     "name": "stderr",
     "output_type": "stream",
     "text": [
      "/usr/local/lib/python3.10/dist-packages/transformers/tokenization_utils_base.py:1601: FutureWarning: `clean_up_tokenization_spaces` was not set. It will be set to `True` by default. This behavior will be depracted in transformers v4.45, and will be then set to `False` by default. For more details check this issue: https://github.com/huggingface/transformers/issues/31884\n",
      "  warnings.warn(\n"
     ]
    }
   ],
   "source": [
    "from transformers import pipeline\n",
    "\n",
    "qa = pipeline(\"text2text-generation\", model=\"facebook/bart-large-cnn\", device ='cuda')"
   ]
  },
  {
   "cell_type": "code",
   "execution_count": null,
   "metadata": {
    "id": "1k2oFUWi0-P0"
   },
   "outputs": [],
   "source": [
    "ARTICLE = \"\"\"\\'SINDH KALAY\\', England (CNN) -- The aroma of freshly baking flatbread wafts through the air as a unit of British soldiers position themselves for a quick patrol around the village of Sindh Kalay. A British soldier on patrol in the mock Afghan village of Sindh Kalay. Market vendors hawk grapes and melons, as a group of village elders sit smoking water pipes and suspicious-looking men lurk beside battered motorcycles. What should the soldiers do? Conduct a weapons search? Approach the village elders first? In the complex political and cultural terrain of Afghanistan, what is the best course of action? Except this is not Afghanistan. It\\'s Norfolk, England. Instead of the Hindu Kush mountains, it is the green ladscape and tidy farmhouses of the English countryside that stretch out behind them. Welcome to the British Army\\'s state-of-the art training ground. It cost more than $20 million to build and every British soldier serving in Afghanistan will do his or her training here. \"I think it\\'s the closest thing you are going to get short of being in Afghanistan itself,\" says Col. David Colthup of the 2nd Battalion of the Yorkshire Regiment. His troops have already served one tour of duty in Afghanistan\\'s Helmand province and are training for another. British troops serving in Helmand province are tasked with mentoring and training Afghan security forces. Not an easy job in a Taliban stronghold and Afghanistan\\'s center of opium production. \"Ultimately, a soldier joins the army and trains to fight. That\\'s what a soldier trains to do. But today, it\\'s a much, much more complex environment,\" explains Colthup. \"The business of being able to interact either through an interpreter or through Afghan security forces, whether they are police or army. And to understand how the people operate and how we can interact better with them. Because ultimately, that\\'s what it\\'s about,\" he says. The most distinctive features of Sindh Kalay are the high three-meter walls that make up the village compound, creating narrow alleyways difficult for troops to patrol. The village is staffed with Afghan asylum-seekers, many of whom have fled the Taliban. They play the roles of market vendors, village elders and sometimes Afghan security forces. Several Afghan women are also on hand, useful for training British soldiers on the religious and cultural sensitivities of entering an Afghan home.  Watch British troops training in mock Afghan village » The Taliban insurgents are played by Nepalese Ghurkha soldiers authorized to handle weapons. They play their roles silently, unable to partake in the Pashtun banter among the Afghans. Fazel Beria is also an asylum-seeker from Afghanistan. He is responsible for recruiting and for creating the sights and smells of Sindh Kalay and is easily identifiable as the only Afghan in the market in Western clothes. He beams with pride walking down the bazaar and clearly relishes his role in training the British Army. \"Everything with the culture comes up with the issue of hearts and minds,\" he explains. \"If you want to win that, you need to know about their culture. You need to respect their culture, their religion and their way of life.\" He gives high marks to the soldiers training so far. After each exercise, the Afghan actors talk directly to the soldiers about what went wrong and what went right. Sometimes, it\\'s the little things that count. \"Yes, there have been quite a lot of surprises,\" Beria says. Like Afghan will sit cross legged for hours. \"The British soldier cannot do that,\" he laughs. \"The Afghan will be sitting very comfortable and the British soldier is not. So, they have to get used to it.\"  See photos of British troops on patrol in Sindh Kalay -- and for real in Afghanistan » Previously, the army trained on farmhouses and in urban neighborhoods that resembled Northern Ireland more than Afghanistan. But Sindh Kalay does more than mimic the physical reality of Afghanistan. It also mirrors the changing tactics on the ground. Troops are grilled in\"\"\"\n",
    "# print(summarizer(ARTICLE, max_length=130, min_length=30, do_sample=False))"
   ]
  },
  {
   "cell_type": "code",
   "execution_count": null,
   "metadata": {
    "colab": {
     "base_uri": "https://localhost:8080/"
    },
    "id": "salZCmu419QF",
    "outputId": "496efc99-ee81-484f-9157-77738553776a"
   },
   "outputs": [
    {
     "data": {
      "text/plain": [
       "[{'generated_text': 'Sindh Kalay is a state-of-the-art training ground for British troops in Afghanistan. The village is staffed with Afghan asylum-seekers, many of whom have fled the Taliban. The Taliban insurgents are played by Nepalese Ghurkha soldiers authorized to handle weapons.'}]"
      ]
     },
     "execution_count": 9,
     "metadata": {},
     "output_type": "execute_result"
    }
   ],
   "source": [
    "qa(f\"\"\"Context:\n",
    "{ARTICLE}\n",
    "\n",
    "Question:\n",
    "Where will British troops be deployed?\n",
    "\"\"\")"
   ]
  },
  {
   "cell_type": "code",
   "execution_count": null,
   "metadata": {
    "colab": {
     "base_uri": "https://localhost:8080/"
    },
    "id": "nLW6sKRU3bO4",
    "outputId": "e2cc2a9c-0ea8-40c0-e932-383d0e092f1d"
   },
   "outputs": [
    {
     "data": {
      "text/plain": [
       "[{'generated_text': 'Wolverton Viaduct was built in 1838 for the London and Birmingham Railway (L&BR) It is the largest of its kind in the world, reaching a maximum height of 57 feet (17 metres) It was designed to look like a Roman aqueduct, but it is actually a bridge.'}]"
      ]
     },
     "execution_count": 10,
     "metadata": {},
     "output_type": "execute_result"
    }
   ],
   "source": [
    "qa(f\"\"\"Context:\n",
    "Wolverton Viaduct is a railway bridge carrying the West Coast Main Line over the River Great Ouse to the north of Wolverton, part of Milton Keynes, in south-eastern England. Built in 1838 for the London and Birmingham Railway (L&BR) to the design of Robert Stephenson, it was the largest viaduct on the L&BR's route. It is in the centre of Wolverton Embankment, itself the largest on the line. It has six brick arches and covers a distance of 660 feet (200 metres), reaching a maximum height of 57 feet (17 metres) above the river, and terminating in substantial abutments which contain decorative arches. The viaduct and embankment feature in drawings by John Cooke Bourne. Several contemporary commentators likened Stephenson's bridges to Roman aqueducts. Some modern engineers and railway historians have suggested that Wolverton Viaduct is not as innovative or impressive as some that followed but nonetheless praised its visual impact.\n",
    "\n",
    "Question:\n",
    "When Wolverton Viaduct built?\n",
    "\"\"\")"
   ]
  },
  {
   "cell_type": "code",
   "execution_count": null,
   "metadata": {
    "id": "AgbmYkCd35wG"
   },
   "outputs": [],
   "source": []
  },
  {
   "cell_type": "code",
   "execution_count": null,
   "metadata": {
    "colab": {
     "base_uri": "https://localhost:8080/"
    },
    "id": "U6zjzEuh4S-M",
    "outputId": "64acba56-8eab-44e6-83e0-2835377e700e"
   },
   "outputs": [
    {
     "name": "stdout",
     "output_type": "stream",
     "text": [
      "Converted data.jsonl to data.json/data.json\n"
     ]
    }
   ],
   "source": [
    "def convert_jsonl_to_json(input_jsonl_file, output_json_folder):\n",
    "    # Ensure the output folder exists\n",
    "    os.makedirs(output_json_folder, exist_ok=True)\n",
    "\n",
    "    # Determine the output JSON filename\n",
    "    base_name = os.path.splitext(os.path.basename(input_jsonl_file))[0]\n",
    "    output_json_file = os.path.join(output_json_folder, base_name + '.json')\n",
    "\n",
    "    # Read the JSONL file and aggregate the data\n",
    "    data = []\n",
    "    with open(input_jsonl_file, 'r') as jsonl_file:\n",
    "        for line_number, line in enumerate(jsonl_file, start=1):\n",
    "            line = line.strip()\n",
    "            if not line:  # Skip empty lines\n",
    "                continue\n",
    "            try:\n",
    "                data.append(json.loads(line))\n",
    "            except json.JSONDecodeError as e:\n",
    "                print(f\"Error decoding JSON on line {line_number}: {e}\")\n",
    "                continue\n",
    "\n",
    "    # Write to the JSON file\n",
    "    with open(output_json_file, 'w') as json_file:\n",
    "        json.dump(data, json_file, indent=4)\n",
    "\n",
    "    print(f\"Converted {input_jsonl_file} to {output_json_file}\")\n",
    "\n",
    "# Example usage\n",
    "input_jsonl_file = 'data.jsonl'  # Change this to your actual input file path\n",
    "output_json_folder = 'data.json'  # Change this to your desired output folder path\n",
    "\n",
    "convert_jsonl_to_json(input_jsonl_file, output_json_folder)\n"
   ]
  },
  {
   "cell_type": "code",
   "execution_count": null,
   "metadata": {
    "id": "yK9j4I_o4wiE"
   },
   "outputs": [],
   "source": [
    "# with open(\"data_json/data.json\", \"r\") as f:\n",
    "#   data = json.load(f)\n",
    "\n",
    "with open(\"data.json\", \"r\") as f:\n",
    "  data = json.load(f)"
   ]
  },
  {
   "cell_type": "code",
   "execution_count": null,
   "metadata": {
    "colab": {
     "base_uri": "https://localhost:8080/"
    },
    "id": "pec885yA48TV",
    "outputId": "ba92c8f6-a835-4332-c411-2f508739dc69"
   },
   "outputs": [
    {
     "data": {
      "text/plain": [
       "{'story': '\\'SINDH KALAY\\', England (CNN) -- The aroma of freshly baking flatbread wafts through the air as a unit of British soldiers position themselves for a quick patrol around the village of Sindh Kalay. A British soldier on patrol in the mock Afghan village of Sindh Kalay. Market vendors hawk grapes and melons, as a group of village elders sit smoking water pipes and suspicious-looking men lurk beside battered motorcycles. What should the soldiers do? Conduct a weapons search? Approach the village elders first? In the complex political and cultural terrain of Afghanistan, what is the best course of action? Except this is not Afghanistan. It\\'s Norfolk, England. Instead of the Hindu Kush mountains, it is the green ladscape and tidy farmhouses of the English countryside that stretch out behind them. Welcome to the British Army\\'s state-of-the art training ground. It cost more than $20 million to build and every British soldier serving in Afghanistan will do his or her training here. \"I think it\\'s the closest thing you are going to get short of being in Afghanistan itself,\" says Col. David Colthup of the 2nd Battalion of the Yorkshire Regiment. His troops have already served one tour of duty in Afghanistan\\'s Helmand province and are training for another. British troops serving in Helmand province are tasked with mentoring and training Afghan security forces. Not an easy job in a Taliban stronghold and Afghanistan\\'s center of opium production. \"Ultimately, a soldier joins the army and trains to fight. That\\'s what a soldier trains to do. But today, it\\'s a much, much more complex environment,\" explains Colthup. \"The business of being able to interact either through an interpreter or through Afghan security forces, whether they are police or army. And to understand how the people operate and how we can interact better with them. Because ultimately, that\\'s what it\\'s about,\" he says. The most distinctive features of Sindh Kalay are the high three-meter walls that make up the village compound, creating narrow alleyways difficult for troops to patrol. The village is staffed with Afghan asylum-seekers, many of whom have fled the Taliban. They play the roles of market vendors, village elders and sometimes Afghan security forces. Several Afghan women are also on hand, useful for training British soldiers on the religious and cultural sensitivities of entering an Afghan home.  Watch British troops training in mock Afghan village » The Taliban insurgents are played by Nepalese Ghurkha soldiers authorized to handle weapons. They play their roles silently, unable to partake in the Pashtun banter among the Afghans. Fazel Beria is also an asylum-seeker from Afghanistan. He is responsible for recruiting and for creating the sights and smells of Sindh Kalay and is easily identifiable as the only Afghan in the market in Western clothes. He beams with pride walking down the bazaar and clearly relishes his role in training the British Army. \"Everything with the culture comes up with the issue of hearts and minds,\" he explains. \"If you want to win that, you need to know about their culture. You need to respect their culture, their religion and their way of life.\" He gives high marks to the soldiers training so far. After each exercise, the Afghan actors talk directly to the soldiers about what went wrong and what went right. Sometimes, it\\'s the little things that count. \"Yes, there have been quite a lot of surprises,\" Beria says. Like Afghan will sit cross legged for hours. \"The British soldier cannot do that,\" he laughs. \"The Afghan will be sitting very comfortable and the British soldier is not. So, they have to get used to it.\"  See photos of British troops on patrol in Sindh Kalay -- and for real in Afghanistan » Previously, the army trained on farmhouses and in urban neighborhoods that resembled Northern Ireland more than Afghanistan. But Sindh Kalay does more than mimic the physical reality of Afghanistan. It also mirrors the changing tactics on the ground. Troops are grilled in',\n",
       " 'questions': ['Where were they being deployed to?',\n",
       "  'What does the village train soldiers to understand?',\n",
       "  'Where do British soldiers train?',\n",
       "  'Where will British troops be deployed?',\n",
       "  'Where did the soldiers train?',\n",
       "  'What are soldiers being trained to understand?',\n",
       "  'Who play the part of Taliban militants?',\n",
       "  'What does the village feature?',\n",
       "  'Who plays Taliban militants during mock Afghan village?',\n",
       "  'What does the village train the soldiers to do?',\n",
       "  'Who plays the role of \"Taliban militants\"?',\n",
       "  'What do the mock Afghan villages contain?',\n",
       "  'What did British soldiers do before being deployed to Afghanistan?'],\n",
       " 'answers': [[\"Afghanistan's Helmand province\"],\n",
       "  ['how the people operate and how we can interact better with them.'],\n",
       "  ['mock Afghan village of Sindh Kalay.'],\n",
       "  ['around the village of Sindh Kalay.'],\n",
       "  ['Norfolk, England.'],\n",
       "  ['how the people operate and how we can interact better with them.'],\n",
       "  ['Nepalese Ghurkha soldiers'],\n",
       "  ['high three-meter walls'],\n",
       "  ['Nepalese Ghurkha soldiers'],\n",
       "  ['religious and cultural sensitivities'],\n",
       "  ['Nepalese Ghurkha soldiers authorized to handle weapons.'],\n",
       "  [\"British Army's state-of-the art training ground.\"],\n",
       "  ['training']],\n",
       " 'summary': 'British soldiers train in mock Afghan village before deployment to Afghanistan .\\nVillage features Afghan asylum-seekers as vendors, elders, Afghan forces .\\nTaliban militants are played by Nepalese Ghurkha soldiers .\\nVillage trains soldiers to understand Afghan customs, respect Afghan culture .'}"
      ]
     },
     "execution_count": 14,
     "metadata": {},
     "output_type": "execute_result"
    }
   ],
   "source": [
    "data[0]"
   ]
  },
  {
   "cell_type": "code",
   "execution_count": null,
   "metadata": {
    "colab": {
     "base_uri": "https://localhost:8080/"
    },
    "id": "9uXwNqAz4-24",
    "outputId": "095e03a2-95a1-40be-a50e-09e640c3ee2b"
   },
   "outputs": [
    {
     "data": {
      "text/plain": [
       "dict_keys(['story', 'questions', 'answers', 'summary'])"
      ]
     },
     "execution_count": 16,
     "metadata": {},
     "output_type": "execute_result"
    }
   ],
   "source": [
    "data[0].keys()"
   ]
  },
  {
   "cell_type": "code",
   "execution_count": null,
   "metadata": {
    "colab": {
     "base_uri": "https://localhost:8080/"
    },
    "id": "f1CpbRu05HiZ",
    "outputId": "ce276414-23c4-4755-aacf-bf82644b3061"
   },
   "outputs": [
    {
     "data": {
      "text/plain": [
       "10388"
      ]
     },
     "execution_count": 17,
     "metadata": {},
     "output_type": "execute_result"
    }
   ],
   "source": [
    "len(data)"
   ]
  },
  {
   "cell_type": "code",
   "execution_count": null,
   "metadata": {
    "id": "lRclNUGI5mJo"
   },
   "outputs": [],
   "source": [
    "sample_idx = pd.DataFrame({\"id\":[i for i in range(0,10388)]})\n",
    "sample_idx_1k = sample_idx.sample(2000, random_state=12)"
   ]
  },
  {
   "cell_type": "code",
   "execution_count": null,
   "metadata": {
    "colab": {
     "base_uri": "https://localhost:8080/"
    },
    "id": "WkSX7-ZT6N6W",
    "outputId": "8d7c3d77-8c14-4dca-cea5-d8b6c6e41155"
   },
   "outputs": [
    {
     "data": {
      "text/plain": [
       "0"
      ]
     },
     "execution_count": 10,
     "metadata": {},
     "output_type": "execute_result"
    }
   ],
   "source": [
    "sample_idx_1k['id'].duplicated().sum()"
   ]
  },
  {
   "cell_type": "code",
   "execution_count": null,
   "metadata": {
    "colab": {
     "base_uri": "https://localhost:8080/"
    },
    "collapsed": true,
    "id": "dsjl9uHa56ay",
    "jupyter": {
     "outputs_hidden": true
    },
    "outputId": "fa63681a-94ee-46d3-c29c-0de38469c9a3"
   },
   "outputs": [
    {
     "data": {
      "text/plain": [
       "array([ 994, 6414, 5756, ..., 2157, 9855, 6112])"
      ]
     },
     "execution_count": 11,
     "metadata": {},
     "output_type": "execute_result"
    }
   ],
   "source": [
    "sample_idx_1k['id'].values"
   ]
  },
  {
   "cell_type": "code",
   "execution_count": null,
   "metadata": {
    "colab": {
     "base_uri": "https://localhost:8080/"
    },
    "id": "TBbzkFGU6_fO",
    "outputId": "5b4466d7-81c6-4dc0-d79a-540eb0ae73a7"
   },
   "outputs": [
    {
     "data": {
      "text/plain": [
       "['traffic black spots, junctions']"
      ]
     },
     "execution_count": 39,
     "metadata": {},
     "output_type": "execute_result"
    }
   ],
   "source": [
    "data[12][\"answers\"][1]"
   ]
  },
  {
   "cell_type": "code",
   "execution_count": null,
   "metadata": {
    "id": "_OL8GJ9S6HGb"
   },
   "outputs": [],
   "source": [
    "new_data = []\n",
    "for n in sample_idx_1k['id'].values:\n",
    "  qa_pair_len = len(data[n][\"questions\"])\n",
    "  for i in range(min(3,qa_pair_len)):\n",
    "    x = {\"text\":data[n][\"story\"],\n",
    "        \"questions\":data[n][\"questions\"][i],\n",
    "        \"answers\":data[n][\"answers\"][i][0]\n",
    "         }\n",
    "    new_data.append(x)"
   ]
  },
  {
   "cell_type": "code",
   "execution_count": null,
   "metadata": {
    "colab": {
     "base_uri": "https://localhost:8080/"
    },
    "id": "5D41itIY6ztT",
    "outputId": "36f92666-90ac-4af5-d8fe-b8ab64a1e08a"
   },
   "outputs": [
    {
     "data": {
      "text/plain": [
       "5902"
      ]
     },
     "execution_count": 13,
     "metadata": {},
     "output_type": "execute_result"
    }
   ],
   "source": [
    "len(new_data)"
   ]
  },
  {
   "cell_type": "code",
   "execution_count": null,
   "metadata": {
    "id": "ZS2jg6uF7man"
   },
   "outputs": [],
   "source": [
    "with open(\"sample1k.json\", \"w\") as f:\n",
    "  json.dump(new_data, f)"
   ]
  },
  {
   "cell_type": "code",
   "execution_count": null,
   "metadata": {
    "id": "msYQp7z-eejE"
   },
   "outputs": [],
   "source": []
  },
  {
   "cell_type": "code",
   "execution_count": null,
   "metadata": {
    "id": "0OnYIjxMeez2"
   },
   "outputs": [],
   "source": [
    "with open(\"sample1k.json\", \"r\") as f:\n",
    "  new_data = json.load(f)"
   ]
  },
  {
   "cell_type": "code",
   "execution_count": null,
   "metadata": {
    "colab": {
     "base_uri": "https://localhost:8080/"
    },
    "id": "YdMuq2JpfNiw",
    "outputId": "d43b2cb6-befb-4b3c-d3c7-f272f6c7e648"
   },
   "outputs": [
    {
     "data": {
      "text/plain": [
       "0.17647058823529413"
      ]
     },
     "execution_count": 7,
     "metadata": {},
     "output_type": "execute_result"
    }
   ],
   "source": [
    "70 15 15"
   ]
  },
  {
   "cell_type": "code",
   "execution_count": null,
   "metadata": {
    "colab": {
     "base_uri": "https://localhost:8080/"
    },
    "id": "BSt38495hXUy",
    "outputId": "d6bffc7b-ee8e-42c7-bfcc-6e3f764b12c6"
   },
   "outputs": [
    {
     "name": "stdout",
     "output_type": "stream",
     "text": [
      "Train: 4131\n",
      "Validation: 885\n",
      "Test: 886\n"
     ]
    }
   ],
   "source": [
    "def split_array(arr):\n",
    "    # Calculate the split indices based on the 70:15:15 ratio\n",
    "    train_size = int(0.70 * len(arr))\n",
    "    val_size = int(0.15 * len(arr))\n",
    "    test_size = len(arr) - train_size - val_size\n",
    "\n",
    "    # Split the array\n",
    "    train, val, test = np.split(arr, [train_size, train_size + val_size])\n",
    "\n",
    "    return train, val, test\n",
    "\n",
    "# Example usage\n",
    "train, val, test = split_array(new_data)\n",
    "\n",
    "print(\"Train:\", len(train))\n",
    "print(\"Validation:\", len(val))\n",
    "print(\"Test:\", len(test))"
   ]
  },
  {
   "cell_type": "code",
   "execution_count": null,
   "metadata": {
    "colab": {
     "base_uri": "https://localhost:8080/"
    },
    "id": "wpnH74_qhgc_",
    "outputId": "b38a4165-726b-49b7-bcf4-d61dd73d8693"
   },
   "outputs": [
    {
     "data": {
      "text/plain": [
       "4691"
      ]
     },
     "execution_count": 11,
     "metadata": {},
     "output_type": "execute_result"
    }
   ],
   "source": [
    "3283+703+705"
   ]
  },
  {
   "cell_type": "code",
   "execution_count": null,
   "metadata": {
    "id": "84gy9xiAhm8F"
   },
   "outputs": [],
   "source": [
    "with open(\"sample1k_train.json\", \"w\") as f:\n",
    "  json.dump(train.tolist(), f)\n",
    "\n",
    "with open(\"sample1k_val.json\", \"w\") as f:\n",
    "  json.dump(val.tolist(), f)\n",
    "\n",
    "with open(\"sample1k_test.json\", \"w\") as f:\n",
    "  json.dump(test.tolist(), f)"
   ]
  }
 ],
 "metadata": {
  "accelerator": "GPU",
  "colab": {
   "gpuType": "T4",
   "provenance": []
  },
  "kernelspec": {
   "display_name": "Python 3 (ipykernel)",
   "language": "python",
   "name": "python3"
  },
  "language_info": {
   "codemirror_mode": {
    "name": "ipython",
    "version": 3
   },
   "file_extension": ".py",
   "mimetype": "text/x-python",
   "name": "python",
   "nbconvert_exporter": "python",
   "pygments_lexer": "ipython3",
   "version": "3.10.9"
  }
 },
 "nbformat": 4,
 "nbformat_minor": 4
}
