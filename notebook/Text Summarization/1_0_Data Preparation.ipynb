{
 "cells": [
  {
   "cell_type": "code",
   "execution_count": null,
   "id": "1a907b75-114e-4999-94fb-384acf879094",
   "metadata": {
    "id": "1a907b75-114e-4999-94fb-384acf879094"
   },
   "outputs": [],
   "source": [
    "import pandas as pd\n",
    "import numpy as np\n",
    "# from sklearn.model_selection import train_test_split"
   ]
  },
  {
   "cell_type": "code",
   "execution_count": null,
   "id": "ac37175a-aed5-4eac-976a-0bc7d4573127",
   "metadata": {
    "id": "ac37175a-aed5-4eac-976a-0bc7d4573127"
   },
   "outputs": [],
   "source": [
    "df = pd.read_csv(\"bbc-news-summary.csv\")"
   ]
  },
  {
   "cell_type": "code",
   "execution_count": null,
   "id": "08c6bbc7-c3c6-44a9-97b3-af9ec8d14c28",
   "metadata": {
    "id": "08c6bbc7-c3c6-44a9-97b3-af9ec8d14c28",
    "outputId": "9048b551-d412-4e0f-af71-eda419a43cee"
   },
   "outputs": [
    {
     "data": {
      "text/plain": [
       "(2224, 3)"
      ]
     },
     "execution_count": 16,
     "metadata": {},
     "output_type": "execute_result"
    }
   ],
   "source": [
    "df.shape"
   ]
  },
  {
   "cell_type": "code",
   "execution_count": null,
   "id": "dabdb92c-da63-4436-a4a9-3624f68adcaa",
   "metadata": {
    "id": "dabdb92c-da63-4436-a4a9-3624f68adcaa",
    "outputId": "0aa53b65-5078-49e6-d0cf-c0552ea5acee"
   },
   "outputs": [
    {
     "data": {
      "text/html": [
       "<div>\n",
       "<style scoped>\n",
       "    .dataframe tbody tr th:only-of-type {\n",
       "        vertical-align: middle;\n",
       "    }\n",
       "\n",
       "    .dataframe tbody tr th {\n",
       "        vertical-align: top;\n",
       "    }\n",
       "\n",
       "    .dataframe thead th {\n",
       "        text-align: right;\n",
       "    }\n",
       "</style>\n",
       "<table border=\"1\" class=\"dataframe\">\n",
       "  <thead>\n",
       "    <tr style=\"text-align: right;\">\n",
       "      <th></th>\n",
       "      <th>File_path</th>\n",
       "      <th>Articles</th>\n",
       "      <th>Summaries</th>\n",
       "    </tr>\n",
       "  </thead>\n",
       "  <tbody>\n",
       "    <tr>\n",
       "      <th>0</th>\n",
       "      <td>politics</td>\n",
       "      <td>Budget to set scene for election..Gordon Brown...</td>\n",
       "      <td>- Increase in the stamp duty threshold from £6...</td>\n",
       "    </tr>\n",
       "    <tr>\n",
       "      <th>1</th>\n",
       "      <td>politics</td>\n",
       "      <td>Army chiefs in regiments decision..Military ch...</td>\n",
       "      <td>\"They are very much not for the good and will ...</td>\n",
       "    </tr>\n",
       "    <tr>\n",
       "      <th>2</th>\n",
       "      <td>politics</td>\n",
       "      <td>Howard denies split over ID cards..Michael How...</td>\n",
       "      <td>Michael Howard has denied his shadow cabinet w...</td>\n",
       "    </tr>\n",
       "    <tr>\n",
       "      <th>3</th>\n",
       "      <td>politics</td>\n",
       "      <td>Observers to monitor UK election..Ministers wi...</td>\n",
       "      <td>The report said individual registration should...</td>\n",
       "    </tr>\n",
       "    <tr>\n",
       "      <th>4</th>\n",
       "      <td>politics</td>\n",
       "      <td>Kilroy names election seat target..Ex-chat sho...</td>\n",
       "      <td>UKIP's leader, Roger Knapman, has said he is g...</td>\n",
       "    </tr>\n",
       "  </tbody>\n",
       "</table>\n",
       "</div>"
      ],
      "text/plain": [
       "  File_path                                           Articles  \\\n",
       "0  politics  Budget to set scene for election..Gordon Brown...   \n",
       "1  politics  Army chiefs in regiments decision..Military ch...   \n",
       "2  politics  Howard denies split over ID cards..Michael How...   \n",
       "3  politics  Observers to monitor UK election..Ministers wi...   \n",
       "4  politics  Kilroy names election seat target..Ex-chat sho...   \n",
       "\n",
       "                                           Summaries  \n",
       "0  - Increase in the stamp duty threshold from £6...  \n",
       "1  \"They are very much not for the good and will ...  \n",
       "2  Michael Howard has denied his shadow cabinet w...  \n",
       "3  The report said individual registration should...  \n",
       "4  UKIP's leader, Roger Knapman, has said he is g...  "
      ]
     },
     "execution_count": 17,
     "metadata": {},
     "output_type": "execute_result"
    }
   ],
   "source": [
    "df.head()"
   ]
  },
  {
   "cell_type": "code",
   "execution_count": null,
   "id": "5e30a216-2f21-4494-bae4-a12b924ce2d2",
   "metadata": {
    "id": "5e30a216-2f21-4494-bae4-a12b924ce2d2",
    "outputId": "d1eb2b70-2d16-4e7c-9ed6-3514765a1769"
   },
   "outputs": [
    {
     "data": {
      "text/plain": [
       "98"
      ]
     },
     "execution_count": 18,
     "metadata": {},
     "output_type": "execute_result"
    }
   ],
   "source": [
    "df.duplicated().sum()"
   ]
  },
  {
   "cell_type": "code",
   "execution_count": null,
   "id": "2ccd63ea-2e18-4677-9ea1-80534af06499",
   "metadata": {
    "id": "2ccd63ea-2e18-4677-9ea1-80534af06499"
   },
   "outputs": [],
   "source": [
    "df = df.drop_duplicates(keep='first')"
   ]
  },
  {
   "cell_type": "code",
   "execution_count": null,
   "id": "bb56800f-1669-494c-b3f9-3b051372670f",
   "metadata": {
    "id": "bb56800f-1669-494c-b3f9-3b051372670f"
   },
   "outputs": [],
   "source": [
    "df = df.sample(frac=1)"
   ]
  },
  {
   "cell_type": "code",
   "execution_count": null,
   "id": "9e13096a-ce6d-4d81-b44a-4fa51e9b2081",
   "metadata": {
    "id": "9e13096a-ce6d-4d81-b44a-4fa51e9b2081",
    "outputId": "41a29e25-b6f6-4125-e29e-fef6460f4e89"
   },
   "outputs": [
    {
     "data": {
      "text/plain": [
       "0"
      ]
     },
     "execution_count": 25,
     "metadata": {},
     "output_type": "execute_result"
    }
   ],
   "source": [
    "df.duplicated().sum()"
   ]
  },
  {
   "cell_type": "code",
   "execution_count": null,
   "id": "9c414eae-fe33-4e9b-a704-ebb96c853dfc",
   "metadata": {
    "id": "9c414eae-fe33-4e9b-a704-ebb96c853dfc"
   },
   "outputs": [],
   "source": [
    "train_size = int(0.70 * len(df))\n",
    "val_size = int(0.15 * len(df))\n",
    "test_size = len(df) - train_size - val_size"
   ]
  },
  {
   "cell_type": "code",
   "execution_count": null,
   "id": "58e2570f-b099-4170-b5d2-6906cb9ad2c5",
   "metadata": {
    "id": "58e2570f-b099-4170-b5d2-6906cb9ad2c5",
    "outputId": "fff91e44-2cb3-4611-cbb1-c362996dea61"
   },
   "outputs": [
    {
     "name": "stderr",
     "output_type": "stream",
     "text": [
      "C:\\Users\\andre\\python310\\lib\\site-packages\\numpy\\core\\fromnumeric.py:57: FutureWarning: 'DataFrame.swapaxes' is deprecated and will be removed in a future version. Please use 'DataFrame.transpose' instead.\n",
      "  return bound(*args, **kwds)\n"
     ]
    }
   ],
   "source": [
    "train, val, test = np.split(df, [train_size, train_size + val_size])"
   ]
  },
  {
   "cell_type": "code",
   "execution_count": null,
   "id": "e0397428-1f34-459f-b204-ece54a4cda04",
   "metadata": {
    "id": "e0397428-1f34-459f-b204-ece54a4cda04",
    "outputId": "9833921d-8142-4437-ca24-3b2f21e7b97a"
   },
   "outputs": [
    {
     "data": {
      "text/plain": [
       "((1488, 3), (318, 3), (320, 3))"
      ]
     },
     "execution_count": 28,
     "metadata": {},
     "output_type": "execute_result"
    }
   ],
   "source": [
    "train.shape, val.shape, test.shape"
   ]
  },
  {
   "cell_type": "code",
   "execution_count": null,
   "id": "00d168cd-c9fd-4010-88ca-8dba62f81801",
   "metadata": {
    "id": "00d168cd-c9fd-4010-88ca-8dba62f81801"
   },
   "outputs": [],
   "source": [
    "train.to_csv(\"summ_train.csv\", index=False)\n",
    "val.to_csv(\"summ_val.csv\", index=False)\n",
    "test.to_csv(\"summ_test.csv\", index=False)"
   ]
  }
 ],
 "metadata": {
  "colab": {
   "provenance": []
  },
  "kernelspec": {
   "display_name": "Python 3 (ipykernel)",
   "language": "python",
   "name": "python3"
  },
  "language_info": {
   "codemirror_mode": {
    "name": "ipython",
    "version": 3
   },
   "file_extension": ".py",
   "mimetype": "text/x-python",
   "name": "python",
   "nbconvert_exporter": "python",
   "pygments_lexer": "ipython3",
   "version": "3.10.9"
  }
 },
 "nbformat": 4,
 "nbformat_minor": 5
}
